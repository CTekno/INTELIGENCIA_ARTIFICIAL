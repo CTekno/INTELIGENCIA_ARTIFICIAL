{
  "nbformat": 4,
  "nbformat_minor": 0,
  "metadata": {
    "colab": {
      "provenance": []
    },
    "kernelspec": {
      "name": "python3",
      "display_name": "Python 3"
    },
    "language_info": {
      "name": "python"
    }
  },
  "cells": [
    {
      "cell_type": "code",
      "source": [
        "!pip install mlrose"
      ],
      "metadata": {
        "id": "IC_wkR0dkeIE"
      },
      "execution_count": null,
      "outputs": []
    },
    {
      "cell_type": "code",
      "source": [
        "import six\n",
        "import sys\n",
        "sys.modules['sklearn.externals.six'] = six\n",
        "import mlrose"
      ],
      "metadata": {
        "id": "SjHin8sMkT2-"
      },
      "execution_count": 2,
      "outputs": []
    },
    {
      "cell_type": "code",
      "execution_count": 3,
      "metadata": {
        "id": "0BAkc3h_YDWh"
      },
      "outputs": [],
      "source": [
        "produtos = [\n",
        "    ('Refrigerador A', 0.751, 999.90),\n",
        "    ('Celular', 0.0000899, 2911.12),\n",
        "    ('TV 55', 0.400, 4346.99),\n",
        "    ('TV 50', 0.290, 3999.90),\n",
        "    ('TV 42', 0.200, 2999.00),\n",
        "    ('Notebook A', 0.00350, 2499.90),\n",
        "    ('Ventilador', 0.496, 199.90),\n",
        "    ('Microondas A', 0.0424, 308.66),\n",
        "    ('Microondas B', 0.0544, 429.90),\n",
        "    ('Microondas C', 0.0319, 299.29),\n",
        "    ('Refrigerador B', 0.635, 849.00),\n",
        "    ('Refrigerador C', 0.870, 1199.89),\n",
        "    ('Notebook B', 0.498, 1999.90),\n",
        "    ('Notebook C', 0.527, 3999.00)]\n",
        "\n",
        "ESPACOTOTAL = 3 #3 metros cubicos"
      ]
    },
    {
      "cell_type": "code",
      "source": [
        "def imprimirsolucao(lista):\n",
        "  for i in range(len(lista)):\n",
        "    if lista[i] == 1:\n",
        "      print('%s - %s' % (produtos[i][0], produtos[i][2]))"
      ],
      "metadata": {
        "id": "8U18pG4jyAIO"
      },
      "execution_count": 4,
      "outputs": []
    },
    {
      "cell_type": "code",
      "source": [
        "def fitnessfunction(lista):\n",
        "  volumeOcupado = 0\n",
        "  valorTotal = 0\n",
        "  for i in range(len(lista)):\n",
        "    if lista[i] == 1:\n",
        "      valorTotal += produtos[i][2]\n",
        "      volumeOcupado += produtos[i][1]\n",
        "    if volumeOcupado > 3:\n",
        "      valorTotal = 1\n",
        "  return valorTotal"
      ],
      "metadata": {
        "id": "4mI5AwQKiH_c"
      },
      "execution_count": 5,
      "outputs": []
    },
    {
      "cell_type": "code",
      "source": [
        "fitness = mlrose.CustomFitness(fitnessfunction)"
      ],
      "metadata": {
        "id": "_0627Y_QvKiY"
      },
      "execution_count": 6,
      "outputs": []
    },
    {
      "cell_type": "code",
      "source": [
        "problema = mlrose.DiscreteOpt(length=14,fitness_fn=fitness,maximize=True,max_val = 2)"
      ],
      "metadata": {
        "id": "eVaUnuW9vSbB"
      },
      "execution_count": 7,
      "outputs": []
    },
    {
      "cell_type": "code",
      "source": [
        "melhorsolucao, melhorcusto = mlrose.genetic_alg(problema, pop_size=500, mutation_prob=0.2)\n",
        "\n",
        "melhorsolucao, melhorcusto,\n",
        "# Produtos que serão levados ou deixados (1, 0) - Maior valor possível"
      ],
      "metadata": {
        "id": "q7P46dkF2TQC",
        "colab": {
          "base_uri": "https://localhost:8080/"
        },
        "outputId": "55b10b5c-ce75-4508-9fd8-ea523459eb0d"
      },
      "execution_count": 8,
      "outputs": [
        {
          "output_type": "execute_result",
          "data": {
            "text/plain": [
              "(array([0, 1, 1, 1, 1, 1, 0, 1, 1, 1, 0, 1, 1, 1]), 24993.550000000003)"
            ]
          },
          "metadata": {},
          "execution_count": 8
        }
      ]
    }
  ]
}