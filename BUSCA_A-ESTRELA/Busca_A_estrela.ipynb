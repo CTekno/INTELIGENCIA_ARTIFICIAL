{
  "nbformat": 4,
  "nbformat_minor": 0,
  "metadata": {
    "colab": {
      "provenance": []
    },
    "kernelspec": {
      "name": "python3",
      "display_name": "Python 3"
    },
    "language_info": {
      "name": "python"
    }
  },
  "cells": [
    {
      "cell_type": "code",
      "execution_count": null,
      "metadata": {
        "id": "szkY2DGOvAWr"
      },
      "outputs": [],
      "source": [
        "import numpy as np\n",
        "\n",
        "class Vertice:\n",
        "  def __init__ (self,nome,distancia):\n",
        "    self.nome = nome\n",
        "    self.distancia_objetivo = distancia\n",
        "    self.visitado = False\n",
        "    self.adjacentes = []\n",
        "\n",
        "  def add_adjacente(self, adjacente):\n",
        "      self.adjacentes.append(adjacente)\n",
        "\n",
        "  def show_adjacente(self):\n",
        "      for i in self.adjacentes:\n",
        "        print(i.vertice.nome, i.custo)"
      ]
    },
    {
      "cell_type": "code",
      "source": [
        "class adjacente:\n",
        "    def __init__ (self,Vertice,custo):\n",
        "      self.vertice = Vertice\n",
        "      self.custo = custo\n",
        "      self.distancia_aestrela = Vertice.distancia_objetivo + self.custo"
      ],
      "metadata": {
        "id": "mcKf3bfE08cG"
      },
      "execution_count": null,
      "outputs": []
    },
    {
      "cell_type": "code",
      "source": [
        "\n",
        "class Grafo:\n",
        "  portouniao = Vertice(\"Porto União\", 203)\n",
        "  paulofrontin = Vertice(\"Paulo Frontin\", 172)\n",
        "  canoinhas = Vertice(\"Canoinhas\", 141)\n",
        "  tresbarras = Vertice(\"Três Barras\", 131)\n",
        "  saomatdosul = Vertice(\"São Mateus do Sul\", 123)\n",
        "  irati = Vertice(\"Irati\", 139)\n",
        "  curitiba = Vertice(\"Curitiba\", 0)\n",
        "  palmeira = Vertice(\"Palmeira\", 59)\n",
        "  mafra = Vertice(\"Mafra\", 94)\n",
        "  campolargo = Vertice(\"Campo Largo\", 27)\n",
        "  balsanova = Vertice(\"Balsa Nova\", 41)\n",
        "  lapa = Vertice(\"Lapa\", 74)\n",
        "  tijucadosul = Vertice(\"Tijuca do Sul\", 56)\n",
        "  araucaria = Vertice(\"Araucária\", 23)\n",
        "  saojosepinhais = Vertice(\"São José dos Pinhais\", 13)\n",
        "  contenda = Vertice(\"Contenda\", 39)\n",
        "\n",
        "  portouniao.add_adjacente(adjacente(canoinhas,78))\n",
        "  portouniao.add_adjacente(adjacente(paulofrontin,46))\n",
        "  portouniao.add_adjacente(adjacente(saomatdosul,87))\n",
        "\n",
        "  canoinhas.add_adjacente(adjacente(tresbarras,12))\n",
        "  canoinhas.add_adjacente(adjacente(mafra,66))\n",
        "  canoinhas.add_adjacente(adjacente(portouniao,78))\n",
        "\n",
        "  paulofrontin.add_adjacente(adjacente(irati,75))\n",
        "  paulofrontin.add_adjacente(adjacente(portouniao,46))\n",
        "\n",
        "  tresbarras.add_adjacente(adjacente(canoinhas,12))\n",
        "  tresbarras.add_adjacente(adjacente(saomatdosul,43))\n",
        "\n",
        "  irati.add_adjacente(adjacente(saomatdosul,57))\n",
        "  irati.add_adjacente(adjacente(palmeira,75))\n",
        "  irati.add_adjacente(adjacente(paulofrontin,75))\n",
        "\n",
        "  saomatdosul.add_adjacente(adjacente(tresbarras,43))\n",
        "  saomatdosul.add_adjacente(adjacente(irati,57))\n",
        "  saomatdosul.add_adjacente(adjacente(portouniao,87))\n",
        "  saomatdosul.add_adjacente(adjacente(palmeira,77))\n",
        "  saomatdosul.add_adjacente(adjacente(lapa,60))\n",
        "\n",
        "  lapa.add_adjacente(adjacente(saomatdosul,60))\n",
        "  lapa.add_adjacente(adjacente(mafra,57))\n",
        "  lapa.add_adjacente(adjacente(contenda,26))\n",
        "\n",
        "  mafra.add_adjacente(adjacente(canoinhas,66))\n",
        "  mafra.add_adjacente(adjacente(lapa,57))\n",
        "  mafra.add_adjacente(adjacente(tijucadosul,99))\n",
        "\n",
        "  palmeira.add_adjacente(adjacente(irati,75))\n",
        "  palmeira.add_adjacente(adjacente(campolargo,55))\n",
        "  palmeira.add_adjacente(adjacente(saomatdosul,77))\n",
        "\n",
        "  contenda.add_adjacente(adjacente(lapa,26))\n",
        "  contenda.add_adjacente(adjacente(balsanova,19))\n",
        "  contenda.add_adjacente(adjacente(araucaria,18))\n",
        "\n",
        "  balsanova.add_adjacente(adjacente(contenda,19))\n",
        "  balsanova.add_adjacente(adjacente(campolargo,22))\n",
        "  balsanova.add_adjacente(adjacente(curitiba,51))\n",
        "\n",
        "  araucaria.add_adjacente(adjacente(curitiba,37))\n",
        "  araucaria.add_adjacente(adjacente(contenda,18))\n",
        "\n",
        "  saojosepinhais.add_adjacente(adjacente(curitiba,15))\n",
        "  saojosepinhais.add_adjacente(adjacente(tijucadosul,19))\n",
        "\n",
        "  tijucadosul.add_adjacente(adjacente(saojosepinhais,19))\n",
        "  tijucadosul.add_adjacente(adjacente(mafra,99))\n",
        "\n",
        "  campolargo.add_adjacente(adjacente(balsanova,22))\n",
        "  campolargo.add_adjacente(adjacente(curitiba,29))\n"
      ],
      "metadata": {
        "id": "Xa4jzWw1_mFx"
      },
      "execution_count": null,
      "outputs": []
    },
    {
      "cell_type": "code",
      "source": [
        "grafo = Grafo()"
      ],
      "metadata": {
        "id": "VvXcUn9Xfojf"
      },
      "execution_count": null,
      "outputs": []
    },
    {
      "cell_type": "code",
      "source": [
        "class VetorOrdenado:\n",
        "\n",
        "  def __init__(self, capacidade):\n",
        "    self.capacidade = capacidade\n",
        "    self.ultima_posicao = -1\n",
        "    self.valores = np.empty(self.capacidade, dtype=object)\n",
        "\n",
        "  def insere(self, adjacente):\n",
        "    if self.ultima_posicao == self.capacidade - 1:\n",
        "      print('Capacidade máxima atingida')\n",
        "      return\n",
        "    posicao = 0\n",
        "    for i in range(self.ultima_posicao + 1):\n",
        "      posicao = i\n",
        "      if self.valores[i].distancia_aestrela > adjacente.distancia_aestrela:\n",
        "        break\n",
        "      if i == self.ultima_posicao:\n",
        "        posicao = i + 1\n",
        "    x = self.ultima_posicao\n",
        "    while x >= posicao:\n",
        "      self.valores[x + 1] = self.valores[x]\n",
        "      x -= 1\n",
        "    self.valores[posicao] = adjacente\n",
        "    self.ultima_posicao += 1\n",
        "\n",
        "  def imprime(self):\n",
        "    if self.ultima_posicao == -1:\n",
        "      print('O vetor está vazio')\n",
        "    else:\n",
        "      for i in range(self.ultima_posicao + 1):\n",
        "        print(i, ' - ', self.valores[i].vertice.nome, ' - ',\n",
        "              self.valores[i].custo, ' - ',\n",
        "              self.valores[i].vertice.distancia_objetivo, ' - ',\n",
        "              self.valores[i].distancia_aestrela)"
      ],
      "metadata": {
        "id": "EtLaYSNwKjhY"
      },
      "execution_count": null,
      "outputs": []
    },
    {
      "cell_type": "code",
      "source": [
        "class AEstrela:\n",
        "  def __init__(self, objetivo):\n",
        "    self.objetivo = objetivo\n",
        "    self.encontrado = False\n",
        "\n",
        "  def buscar(self, atual):\n",
        "    print('------------------')\n",
        "    print('Atual: {}'.format(atual.nome))\n",
        "    atual.visitado = True\n",
        "\n",
        "    if atual == self.objetivo:\n",
        "      self.encontrado = True\n",
        "    else:\n",
        "      vetor_ordenado = VetorOrdenado(len(atual.adjacentes))\n",
        "      for adjacente in atual.adjacentes:\n",
        "        if adjacente.vertice.visitado == False:\n",
        "          adjacente.vertice.visitado = True\n",
        "          vetor_ordenado.insere(adjacente)\n",
        "      vetor_ordenado.imprime()\n",
        "\n",
        "      if vetor_ordenado.valores[0] != None:\n",
        "        self.buscar(vetor_ordenado.valores[0].vertice)"
      ],
      "metadata": {
        "id": "CpevXrt1nQZF"
      },
      "execution_count": null,
      "outputs": []
    },
    {
      "cell_type": "markdown",
      "source": [
        "Ao mudar a cidade atual ou o destino, carregue o código novamente a partir da terceira célula."
      ],
      "metadata": {
        "id": "SZDIBTWcrtXC"
      }
    },
    {
      "cell_type": "code",
      "source": [
        "busca_aestrela = AEstrela(grafo.curitiba) # CIDADE DESTINO\n",
        "busca_aestrela.buscar(grafo.portouniao) # CIDADE ATUAL"
      ],
      "metadata": {
        "colab": {
          "base_uri": "https://localhost:8080/"
        },
        "id": "Lax8PJE4nayJ",
        "outputId": "11b535da-ba1f-4017-abcb-d8a2060915e4"
      },
      "execution_count": null,
      "outputs": [
        {
          "output_type": "stream",
          "name": "stdout",
          "text": [
            "------------------\n",
            "Atual: Porto União\n",
            "0  -  São Mateus do Sul  -  87  -  123  -  210\n",
            "1  -  Paulo Frontin  -  46  -  172  -  218\n",
            "2  -  Canoinhas  -  78  -  141  -  219\n",
            "------------------\n",
            "Atual: São Mateus do Sul\n",
            "0  -  Lapa  -  60  -  74  -  134\n",
            "1  -  Palmeira  -  77  -  59  -  136\n",
            "2  -  Três Barras  -  43  -  131  -  174\n",
            "3  -  Irati  -  57  -  139  -  196\n",
            "------------------\n",
            "Atual: Lapa\n",
            "0  -  Contenda  -  26  -  39  -  65\n",
            "1  -  Mafra  -  57  -  94  -  151\n",
            "------------------\n",
            "Atual: Contenda\n",
            "0  -  Araucária  -  18  -  23  -  41\n",
            "1  -  Balsa Nova  -  19  -  41  -  60\n",
            "------------------\n",
            "Atual: Araucária\n",
            "0  -  Curitiba  -  37  -  0  -  37\n",
            "------------------\n",
            "Atual: Curitiba\n"
          ]
        }
      ]
    }
  ]
}